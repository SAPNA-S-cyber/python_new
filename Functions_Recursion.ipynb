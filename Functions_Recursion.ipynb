{
 "cells": [
  {
   "cell_type": "markdown",
   "id": "e71f80d1-30f8-4475-a035-44fdfe6d7be9",
   "metadata": {},
   "source": [
    "# Functions --> A block of code written to perform a particular task."
   ]
  },
  {
   "cell_type": "code",
   "execution_count": 1,
   "id": "e9982c5a-b009-4046-99b4-c31b065cd5ea",
   "metadata": {},
   "outputs": [],
   "source": [
    "def Simple_Intrest(P, R, T):\n",
    "    return ((P * R * T)/100)"
   ]
  },
  {
   "cell_type": "code",
   "execution_count": 2,
   "id": "dc3fd7dd-3276-45c9-855e-0535df158811",
   "metadata": {},
   "outputs": [
    {
     "data": {
      "text/plain": [
       "1875.0"
      ]
     },
     "execution_count": 2,
     "metadata": {},
     "output_type": "execute_result"
    }
   ],
   "source": [
    "Simple_Intrest(P = 5000, R = 7.5, T = 5)"
   ]
  },
  {
   "cell_type": "code",
   "execution_count": 3,
   "id": "2c413850-70d5-47de-a265-deb76775cbf9",
   "metadata": {},
   "outputs": [],
   "source": [
    "def Simple_Intrest(P, R, T):\n",
    "    print((P * R * T)/100)"
   ]
  },
  {
   "cell_type": "code",
   "execution_count": 4,
   "id": "ae0e5d0c-3b8a-4393-807c-e5108c1106ff",
   "metadata": {},
   "outputs": [
    {
     "name": "stdout",
     "output_type": "stream",
     "text": [
      "1875.0\n"
     ]
    }
   ],
   "source": [
    "Simple_Intrest(P = 5000, R = 7.5, T = 5)"
   ]
  },
  {
   "cell_type": "code",
   "execution_count": 5,
   "id": "58665fd2-0a1a-4a8f-a2af-ccacd5dc3fc5",
   "metadata": {},
   "outputs": [],
   "source": [
    "def my_function():\n",
    "  print(\"Hello from a function\")"
   ]
  },
  {
   "cell_type": "code",
   "execution_count": 6,
   "id": "3ce94936-660d-4546-a6dc-026110225bef",
   "metadata": {},
   "outputs": [
    {
     "name": "stdout",
     "output_type": "stream",
     "text": [
      "Hello from a function\n"
     ]
    }
   ],
   "source": [
    "my_function()"
   ]
  },
  {
   "cell_type": "code",
   "execution_count": 8,
   "id": "43082dac-d331-4bb6-9b66-13a1fc9b82e1",
   "metadata": {},
   "outputs": [],
   "source": [
    "# Parameters --> At the time of defining a function whatever the value you pass inside a function is known as parameters."
   ]
  },
  {
   "cell_type": "code",
   "execution_count": 9,
   "id": "05b8f25c-515b-4686-906a-37d11f133c5f",
   "metadata": {},
   "outputs": [],
   "source": [
    "def my_function(fname):\n",
    "  print(fname + \" Refsnes\")"
   ]
  },
  {
   "cell_type": "code",
   "execution_count": 10,
   "id": "ad903a24-c342-45f6-8389-e044de211a59",
   "metadata": {},
   "outputs": [],
   "source": [
    "# Arguments(Args) ---> At the time of calling a function whatever the value you pass inside a function is known as parameter.\n",
    "# Values --> whatever the thing your function returns after calling is called  values."
   ]
  },
  {
   "cell_type": "code",
   "execution_count": 11,
   "id": "c465efa4-614f-4c6a-b70e-b7dd6cdfe8f7",
   "metadata": {},
   "outputs": [
    {
     "name": "stdout",
     "output_type": "stream",
     "text": [
      "Emil Refsnes\n",
      "Tobias Refsnes\n",
      "Linus Refsnes\n"
     ]
    }
   ],
   "source": [
    "my_function(\"Emil\")\n",
    "my_function(\"Tobias\")\n",
    "my_function(\"Linus\")"
   ]
  },
  {
   "cell_type": "code",
   "execution_count": 12,
   "id": "0a24e4a9-4ed1-46c4-aae2-de1ff5618660",
   "metadata": {},
   "outputs": [
    {
     "name": "stdout",
     "output_type": "stream",
     "text": [
      "700.0\n"
     ]
    }
   ],
   "source": [
    "Simple_Intrest(5000, 7, 2)"
   ]
  },
  {
   "cell_type": "code",
   "execution_count": 13,
   "id": "a1261c4b-b22c-4abe-acc0-891f416b9b7a",
   "metadata": {},
   "outputs": [
    {
     "ename": "TypeError",
     "evalue": "Simple_Intrest() missing 1 required positional argument: 'T'",
     "output_type": "error",
     "traceback": [
      "\u001b[1;31m---------------------------------------------------------------------------\u001b[0m",
      "\u001b[1;31mTypeError\u001b[0m                                 Traceback (most recent call last)",
      "Cell \u001b[1;32mIn[13], line 1\u001b[0m\n\u001b[1;32m----> 1\u001b[0m Simple_Intrest(\u001b[38;5;241m5000\u001b[39m, \u001b[38;5;241m7\u001b[39m)\n",
      "\u001b[1;31mTypeError\u001b[0m: Simple_Intrest() missing 1 required positional argument: 'T'"
     ]
    }
   ],
   "source": [
    "Simple_Intrest(5000, 7)"
   ]
  },
  {
   "cell_type": "code",
   "execution_count": 15,
   "id": "7c04324d-5560-44ba-b87f-d78a43ba562d",
   "metadata": {},
   "outputs": [
    {
     "name": "stdout",
     "output_type": "stream",
     "text": [
      "The youngest child is Kevin\n"
     ]
    }
   ],
   "source": [
    "def my_function(*kids):\n",
    "  print(\"The youngest child is \" + kids[3])\n",
    "\n",
    "my_function(\"Emil\", \"Tobias\", \"Linus\", \"Kevin\")"
   ]
  },
  {
   "cell_type": "code",
   "execution_count": 16,
   "id": "c3516967-b1e6-4a06-9113-1a7784a7ee46",
   "metadata": {},
   "outputs": [
    {
     "name": "stdout",
     "output_type": "stream",
     "text": [
      "The youngest child is Linus\n"
     ]
    }
   ],
   "source": [
    "def my_function(child3, child2, child1):\n",
    "  print(\"The youngest child is \" + child3)\n",
    "\n",
    "my_function(child1 = \"Emil\", child2 = \"Tobias\", child3 = \"Linus\")"
   ]
  },
  {
   "cell_type": "code",
   "execution_count": 17,
   "id": "3f58252e-9669-451a-8fe6-26df4be41bac",
   "metadata": {},
   "outputs": [
    {
     "name": "stdout",
     "output_type": "stream",
     "text": [
      "His sur name is Mikhail\n"
     ]
    }
   ],
   "source": [
    "def my_function(**kid):\n",
    "  print(\"His sur name is \" + kid[\"sname\"])\n",
    "\n",
    "my_function(fname = \"Tobias\", lname = \"Refsnes\", sname = \"Mikhail\")\n"
   ]
  },
  {
   "cell_type": "code",
   "execution_count": 18,
   "id": "ec8715d2-6bf5-44a0-9e38-ecad6b852939",
   "metadata": {},
   "outputs": [],
   "source": [
    "def my_function(country = \"Norway\"):\n",
    "  print(\"I am from \" + country)"
   ]
  },
  {
   "cell_type": "code",
   "execution_count": 19,
   "id": "c4539a47-c5cb-4d2b-8564-a573cc609a41",
   "metadata": {},
   "outputs": [
    {
     "name": "stdout",
     "output_type": "stream",
     "text": [
      "I am from Sweden\n",
      "I am from India\n",
      "I am from Norway\n",
      "I am from Brazil\n"
     ]
    }
   ],
   "source": [
    "my_function(\"Sweden\")\n",
    "my_function(\"India\")\n",
    "my_function()\n",
    "my_function(\"Brazil\")"
   ]
  },
  {
   "cell_type": "code",
   "execution_count": 20,
   "id": "86547491-741d-41fd-953a-625a1a4dea3e",
   "metadata": {},
   "outputs": [],
   "source": [
    "# Recursion -- > It means that a function calls itself."
   ]
  },
  {
   "cell_type": "code",
   "execution_count": 21,
   "id": "14395d5e-17e2-4650-b0df-b3d381dd8496",
   "metadata": {},
   "outputs": [
    {
     "name": "stdout",
     "output_type": "stream",
     "text": [
      "number :  5\n",
      "Factorial :  120\n"
     ]
    }
   ],
   "source": [
    "# factorial of given number using recursion\n",
    "\n",
    "def factorial(n): \n",
    "\t\n",
    "\t# Checking the number\n",
    "\t# is 1 or 0 then\n",
    "\t# return 1\n",
    "\t# other wise return\n",
    "\t# factorial\n",
    "\tif (n==1 or n==0):\n",
    "\t\t\n",
    "\t\treturn 1\n",
    "\t\n",
    "\telse:\n",
    "\t\t\n",
    "\t\treturn (n * factorial(n - 1)) \n",
    "\n",
    "# Driver Code \n",
    "num = 5; \n",
    "print(\"number : \",num)\n",
    "print(\"Factorial : \",factorial(num))"
   ]
  }
 ],
 "metadata": {
  "kernelspec": {
   "display_name": "Python 3 (ipykernel)",
   "language": "python",
   "name": "python3"
  },
  "language_info": {
   "codemirror_mode": {
    "name": "ipython",
    "version": 3
   },
   "file_extension": ".py",
   "mimetype": "text/x-python",
   "name": "python",
   "nbconvert_exporter": "python",
   "pygments_lexer": "ipython3",
   "version": "3.11.7"
  }
 },
 "nbformat": 4,
 "nbformat_minor": 5
}
